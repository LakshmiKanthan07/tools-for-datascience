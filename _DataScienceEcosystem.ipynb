{
 "cells": [
  {
   "cell_type": "markdown",
   "id": "a3bd032f-1457-4d59-8bb7-5c9524204dfe",
   "metadata": {},
   "source": [
    "# Data Science Tools and Ecosystem\n"
   ]
  },
  {
   "cell_type": "markdown",
   "id": "a3c11d79-496d-422a-9a82-53515f3c8791",
   "metadata": {},
   "source": [
    "In this notebook, Data Science Tools and Ecosystem are summarized.\n"
   ]
  },
  {
   "cell_type": "markdown",
   "id": "fd2002b7-5c30-4a4d-bab4-658eebf91bcd",
   "metadata": {},
   "source": [
    "Some of the popular languages that Data Scientists use are:\n",
    "\n",
    "1. Python  \n",
    "2. R  \n",
    "3. SQL  \n",
    "4. Julia  \n",
    "5. Scala  \n"
   ]
  },
  {
   "cell_type": "markdown",
   "id": "707d2197-6fd5-4005-acd1-a617f516bcac",
   "metadata": {},
   "source": [
    "Some of the commonly used libraries used by Data Scientists include:\n",
    "\n",
    "1. NumPy  \n",
    "2. Pandas  \n",
    "3. Matplotlib  \n",
    "4. Scikit-learn  \n",
    "5. TensorFlow  \n"
   ]
  },
  {
   "cell_type": "markdown",
   "id": "d2c990e3-263c-4492-900a-c1f32fb091e0",
   "metadata": {},
   "source": [
    "| Data Science Tools |\n",
    "|---------------------|\n",
    "| Jupyter Notebook    |\n",
    "| RStudio             |\n",
    "| Apache Zeppelin     |\n"
   ]
  },
  {
   "cell_type": "markdown",
   "id": "45c8843a-e122-4f08-abcb-dd19c9c3aa78",
   "metadata": {},
   "source": [
    "### Below are a few examples of evaluating arithmetic expressions in Python.\n"
   ]
  },
  {
   "cell_type": "code",
   "execution_count": 2,
   "id": "be24c872-7dcb-4fca-8ebe-be8791ce8aa1",
   "metadata": {},
   "outputs": [
    {
     "data": {
      "text/plain": [
       "17"
      ]
     },
     "execution_count": 2,
     "metadata": {},
     "output_type": "execute_result"
    }
   ],
   "source": [
    "#This a simple arithmetic expression to mutiply then add integers\n",
    "(3*4)+5"
   ]
  },
  {
   "cell_type": "code",
   "execution_count": 3,
   "id": "d168fedf-1d3e-4739-abd5-50953f55b484",
   "metadata": {},
   "outputs": [
    {
     "data": {
      "text/plain": [
       "3.3333333333333335"
      ]
     },
     "execution_count": 3,
     "metadata": {},
     "output_type": "execute_result"
    }
   ],
   "source": [
    "# This will convert 200 minutes to hours by dividing by 60\n",
    "200 / 60\n"
   ]
  },
  {
   "cell_type": "markdown",
   "id": "82a310c7-39fa-4c92-a367-6fd42f633789",
   "metadata": {},
   "source": [
    "**Objectives:**\n",
    "\n",
    "- List popular languages for Data Science  \n",
    "- Explore datasets\n",
    "- Explore various tools "
   ]
  },
  {
   "cell_type": "markdown",
   "id": "d8e77a01-5d73-4db9-8033-454f5ab9186f",
   "metadata": {},
   "source": [
    "## Author\n",
    "Lakshmi Kanthan S\n"
   ]
  }
 ],
 "metadata": {
  "kernelspec": {
   "display_name": "Python [conda env:base] *",
   "language": "python",
   "name": "conda-base-py"
  },
  "language_info": {
   "codemirror_mode": {
    "name": "ipython",
    "version": 3
   },
   "file_extension": ".py",
   "mimetype": "text/x-python",
   "name": "python",
   "nbconvert_exporter": "python",
   "pygments_lexer": "ipython3",
   "version": "3.13.5"
  }
 },
 "nbformat": 4,
 "nbformat_minor": 5
}
